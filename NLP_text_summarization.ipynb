{
 "cells": [
  {
   "cell_type": "code",
   "execution_count": 2,
   "id": "0dcc65d5",
   "metadata": {},
   "outputs": [
    {
     "name": "stdout",
     "output_type": "stream",
     "text": [
      "Requirement already satisfied: nltk in c:\\programdata\\anaconda3\\lib\\site-packages (3.6.5)\n",
      "Requirement already satisfied: click in c:\\programdata\\anaconda3\\lib\\site-packages (from nltk) (8.0.3)\n",
      "Requirement already satisfied: joblib in c:\\programdata\\anaconda3\\lib\\site-packages (from nltk) (1.1.0)\n",
      "Requirement already satisfied: regex>=2021.8.3 in c:\\programdata\\anaconda3\\lib\\site-packages (from nltk) (2021.8.3)\n"
     ]
    },
    {
     "name": "stderr",
     "output_type": "stream",
     "text": [
      "WARNING: Ignoring invalid distribution -ikit-learn (c:\\programdata\\anaconda3\\lib\\site-packages)\n",
      "WARNING: Ignoring invalid distribution -ikit-learn (c:\\programdata\\anaconda3\\lib\\site-packages)\n",
      "WARNING: Ignoring invalid distribution - (c:\\programdata\\anaconda3\\lib\\site-packages)\n",
      "WARNING: Ignoring invalid distribution -cikit-learn (c:\\programdata\\anaconda3\\lib\\site-packages)\n",
      "WARNING: Ignoring invalid distribution -ikit-learn (c:\\programdata\\anaconda3\\lib\\site-packages)\n",
      "WARNING: Ignoring invalid distribution -ikit-learn (c:\\programdata\\anaconda3\\lib\\site-packages)\n",
      "WARNING: Ignoring invalid distribution - (c:\\programdata\\anaconda3\\lib\\site-packages)\n",
      "WARNING: Ignoring invalid distribution -cikit-learn (c:\\programdata\\anaconda3\\lib\\site-packages)\n",
      "WARNING: Ignoring invalid distribution -ikit-learn (c:\\programdata\\anaconda3\\lib\\site-packages)\n",
      "WARNING: Ignoring invalid distribution -ikit-learn (c:\\programdata\\anaconda3\\lib\\site-packages)\n",
      "WARNING: Ignoring invalid distribution - (c:\\programdata\\anaconda3\\lib\\site-packages)\n",
      "WARNING: Ignoring invalid distribution -cikit-learn (c:\\programdata\\anaconda3\\lib\\site-packages)\n",
      "WARNING: Ignoring invalid distribution -ikit-learn (c:\\programdata\\anaconda3\\lib\\site-packages)\n",
      "WARNING: Ignoring invalid distribution -ikit-learn (c:\\programdata\\anaconda3\\lib\\site-packages)\n",
      "WARNING: Ignoring invalid distribution - (c:\\programdata\\anaconda3\\lib\\site-packages)\n",
      "WARNING: Ignoring invalid distribution -cikit-learn (c:\\programdata\\anaconda3\\lib\\site-packages)\n",
      "WARNING: Ignoring invalid distribution -ikit-learn (c:\\programdata\\anaconda3\\lib\\site-packages)\n",
      "WARNING: Ignoring invalid distribution -ikit-learn (c:\\programdata\\anaconda3\\lib\\site-packages)\n",
      "WARNING: Ignoring invalid distribution - (c:\\programdata\\anaconda3\\lib\\site-packages)\n",
      "WARNING: Ignoring invalid distribution -cikit-learn (c:\\programdata\\anaconda3\\lib\\site-packages)\n",
      "WARNING: Ignoring invalid distribution -ikit-learn (c:\\programdata\\anaconda3\\lib\\site-packages)\n",
      "WARNING: Ignoring invalid distribution -ikit-learn (c:\\programdata\\anaconda3\\lib\\site-packages)\n",
      "WARNING: Ignoring invalid distribution - (c:\\programdata\\anaconda3\\lib\\site-packages)\n",
      "WARNING: Ignoring invalid distribution -cikit-learn (c:\\programdata\\anaconda3\\lib\\site-packages)\n"
     ]
    },
    {
     "name": "stdout",
     "output_type": "stream",
     "text": [
      "Requirement already satisfied: tqdm in c:\\programdata\\anaconda3\\lib\\site-packages (from nltk) (4.62.3)\n",
      "Requirement already satisfied: colorama in c:\\programdata\\anaconda3\\lib\\site-packages (from click->nltk) (0.4.4)\n"
     ]
    }
   ],
   "source": [
    "!pip install nltk    #Natural language toolkit"
   ]
  },
  {
   "cell_type": "code",
   "execution_count": 3,
   "id": "1522906d",
   "metadata": {},
   "outputs": [],
   "source": [
    "paragraph= \"\"\"\n",
    "Bengaluru (also called Bangalore) is the capital of India's southern Karnataka state. The center of India's high-tech industry, the city is also known for its parks and nightlife. By Cubbon Park, Vidhana Soudha is a Neo-Dravidian legislative building. Former royal residences include 19th-century Bangalore Palace, modeled after England’s Windsor Castle, and Tipu Sultan’s Summer Palace, an 18th-century teak\"\"\""
   ]
  },
  {
   "cell_type": "code",
   "execution_count": 4,
   "id": "7106b5bf",
   "metadata": {},
   "outputs": [
    {
     "data": {
      "text/plain": [
       "\"\\nBengaluru (also called Bangalore) is the capital of India's southern Karnataka state. The center of India's high-tech industry, the city is also known for its parks and nightlife. By Cubbon Park, Vidhana Soudha is a Neo-Dravidian legislative building. Former royal residences include 19th-century Bangalore Palace, modeled after England’s Windsor Castle, and Tipu Sultan’s Summer Palace, an 18th-century teak\""
      ]
     },
     "execution_count": 4,
     "metadata": {},
     "output_type": "execute_result"
    }
   ],
   "source": [
    "paragraph"
   ]
  },
  {
   "cell_type": "code",
   "execution_count": 6,
   "id": "6adde341",
   "metadata": {},
   "outputs": [],
   "source": [
    "import nltk   #importing nltk\n",
    "from nltk.stem import PorterStemmer    # for stemming purpose we use it\n",
    "from nltk.corpus import stopwords"
   ]
  },
  {
   "cell_type": "code",
   "execution_count": 7,
   "id": "dec7b219",
   "metadata": {},
   "outputs": [
    {
     "name": "stderr",
     "output_type": "stream",
     "text": [
      "[nltk_data] Downloading package punkt to C:\\Users\\Surbhi\n",
      "[nltk_data]     Sharma\\AppData\\Roaming\\nltk_data...\n",
      "[nltk_data]   Unzipping tokenizers\\punkt.zip.\n"
     ]
    }
   ],
   "source": [
    "# tokenization-- converts paragraph-sentence-word\n",
    "nltk.download('punkt')      #Punkt Sentence Tokenizer\n",
    "sentences = nltk.sent_tokenize(paragraph)"
   ]
  },
  {
   "cell_type": "code",
   "execution_count": 8,
   "id": "2791bb82",
   "metadata": {},
   "outputs": [
    {
     "data": {
      "text/plain": [
       "[\"\\nBengaluru (also called Bangalore) is the capital of India's southern Karnataka state.\",\n",
       " \"The center of India's high-tech industry, the city is also known for its parks and nightlife.\",\n",
       " 'By Cubbon Park, Vidhana Soudha is a Neo-Dravidian legislative building.',\n",
       " 'Former royal residences include 19th-century Bangalore Palace, modeled after England’s Windsor Castle, and Tipu Sultan’s Summer Palace, an 18th-century teak']"
      ]
     },
     "execution_count": 8,
     "metadata": {},
     "output_type": "execute_result"
    }
   ],
   "source": [
    "sentences"
   ]
  },
  {
   "cell_type": "code",
   "execution_count": 10,
   "id": "15d4ec80",
   "metadata": {},
   "outputs": [],
   "source": [
    "stemmer = PorterStemmer()"
   ]
  },
  {
   "cell_type": "code",
   "execution_count": 23,
   "id": "2f9843d4",
   "metadata": {},
   "outputs": [
    {
     "data": {
      "text/plain": [
       "'histori'"
      ]
     },
     "execution_count": 23,
     "metadata": {},
     "output_type": "execute_result"
    }
   ],
   "source": [
    "stemmer.stem('history')"
   ]
  },
  {
   "cell_type": "markdown",
   "id": "0f58dbf9",
   "metadata": {},
   "source": [
    "**Note-Not giving meaningful output in stemming**"
   ]
  },
  {
   "cell_type": "code",
   "execution_count": 29,
   "id": "b0b97910",
   "metadata": {},
   "outputs": [
    {
     "name": "stderr",
     "output_type": "stream",
     "text": [
      "[nltk_data] Downloading package wordnet to C:\\Users\\Surbhi\n",
      "[nltk_data]     Sharma\\AppData\\Roaming\\nltk_data...\n"
     ]
    },
    {
     "data": {
      "text/plain": [
       "True"
      ]
     },
     "execution_count": 29,
     "metadata": {},
     "output_type": "execute_result"
    }
   ],
   "source": [
    "nltk.download('wordnet')"
   ]
  },
  {
   "cell_type": "code",
   "execution_count": 30,
   "id": "f94540eb",
   "metadata": {},
   "outputs": [],
   "source": [
    "from nltk.stem import WordNetLemmatizer"
   ]
  },
  {
   "cell_type": "code",
   "execution_count": 31,
   "id": "c065d676",
   "metadata": {},
   "outputs": [],
   "source": [
    "lemmatizer= WordNetLemmatizer()   # Initialize the lemmatizer"
   ]
  },
  {
   "cell_type": "code",
   "execution_count": 33,
   "id": "eea288d5",
   "metadata": {},
   "outputs": [
    {
     "data": {
      "text/plain": [
       "'history'"
      ]
     },
     "execution_count": 33,
     "metadata": {},
     "output_type": "execute_result"
    }
   ],
   "source": [
    "lemmatizer.lemmatize('history')    # giving the meaning base word"
   ]
  },
  {
   "cell_type": "code",
   "execution_count": 35,
   "id": "82b674da",
   "metadata": {},
   "outputs": [
    {
     "data": {
      "text/plain": [
       "'go'"
      ]
     },
     "execution_count": 35,
     "metadata": {},
     "output_type": "execute_result"
    }
   ],
   "source": [
    "lemmatizer.lemmatize('goes') "
   ]
  },
  {
   "cell_type": "code",
   "execution_count": 36,
   "id": "7b239448",
   "metadata": {},
   "outputs": [
    {
     "data": {
      "text/plain": [
       "4"
      ]
     },
     "execution_count": 36,
     "metadata": {},
     "output_type": "execute_result"
    }
   ],
   "source": [
    "len(sentences)"
   ]
  },
  {
   "cell_type": "code",
   "execution_count": 58,
   "id": "d710ae66",
   "metadata": {},
   "outputs": [],
   "source": [
    "import re             # importing regular expression in NLP"
   ]
  },
  {
   "cell_type": "code",
   "execution_count": 59,
   "id": "7bb63acb",
   "metadata": {},
   "outputs": [],
   "source": [
    "corpus = []\n",
    "for i in  range(len(sentences)):\n",
    "    review = re.sub('[^a-zA-Z]',' ',sentences[i])   # removie all special charachter only keeping [^, a-z, A-Z]\n",
    "    review=review.lower()\n",
    "    corpus.append(review)              "
   ]
  },
  {
   "cell_type": "code",
   "execution_count": 60,
   "id": "02f61558",
   "metadata": {},
   "outputs": [
    {
     "data": {
      "text/plain": [
       "[' bengaluru  also called bangalore  is the capital of india s southern karnataka state ',\n",
       " 'the center of india s high tech industry  the city is also known for its parks and nightlife ',\n",
       " 'by cubbon park  vidhana soudha is a neo dravidian legislative building ',\n",
       " 'former royal residences include   th century bangalore palace  modeled after england s windsor castle  and tipu sultan s summer palace  an   th century teak']"
      ]
     },
     "execution_count": 60,
     "metadata": {},
     "output_type": "execute_result"
    }
   ],
   "source": [
    "corpus"
   ]
  },
  {
   "cell_type": "markdown",
   "id": "c592f9d0",
   "metadata": {},
   "source": [
    "## Here we can see all special charecter removed**"
   ]
  },
  {
   "cell_type": "code",
   "execution_count": 61,
   "id": "acf07e31",
   "metadata": {},
   "outputs": [
    {
     "name": "stderr",
     "output_type": "stream",
     "text": [
      "[nltk_data] Downloading package stopwords to C:\\Users\\Surbhi\n",
      "[nltk_data]     Sharma\\AppData\\Roaming\\nltk_data...\n",
      "[nltk_data]   Package stopwords is already up-to-date!\n"
     ]
    },
    {
     "data": {
      "text/plain": [
       "['i',\n",
       " 'me',\n",
       " 'my',\n",
       " 'myself',\n",
       " 'we',\n",
       " 'our',\n",
       " 'ours',\n",
       " 'ourselves',\n",
       " 'you',\n",
       " \"you're\",\n",
       " \"you've\",\n",
       " \"you'll\",\n",
       " \"you'd\",\n",
       " 'your',\n",
       " 'yours',\n",
       " 'yourself',\n",
       " 'yourselves',\n",
       " 'he',\n",
       " 'him',\n",
       " 'his',\n",
       " 'himself',\n",
       " 'she',\n",
       " \"she's\",\n",
       " 'her',\n",
       " 'hers',\n",
       " 'herself',\n",
       " 'it',\n",
       " \"it's\",\n",
       " 'its',\n",
       " 'itself',\n",
       " 'they',\n",
       " 'them',\n",
       " 'their',\n",
       " 'theirs',\n",
       " 'themselves',\n",
       " 'what',\n",
       " 'which',\n",
       " 'who',\n",
       " 'whom',\n",
       " 'this',\n",
       " 'that',\n",
       " \"that'll\",\n",
       " 'these',\n",
       " 'those',\n",
       " 'am',\n",
       " 'is',\n",
       " 'are',\n",
       " 'was',\n",
       " 'were',\n",
       " 'be',\n",
       " 'been',\n",
       " 'being',\n",
       " 'have',\n",
       " 'has',\n",
       " 'had',\n",
       " 'having',\n",
       " 'do',\n",
       " 'does',\n",
       " 'did',\n",
       " 'doing',\n",
       " 'a',\n",
       " 'an',\n",
       " 'the',\n",
       " 'and',\n",
       " 'but',\n",
       " 'if',\n",
       " 'or',\n",
       " 'because',\n",
       " 'as',\n",
       " 'until',\n",
       " 'while',\n",
       " 'of',\n",
       " 'at',\n",
       " 'by',\n",
       " 'for',\n",
       " 'with',\n",
       " 'about',\n",
       " 'against',\n",
       " 'between',\n",
       " 'into',\n",
       " 'through',\n",
       " 'during',\n",
       " 'before',\n",
       " 'after',\n",
       " 'above',\n",
       " 'below',\n",
       " 'to',\n",
       " 'from',\n",
       " 'up',\n",
       " 'down',\n",
       " 'in',\n",
       " 'out',\n",
       " 'on',\n",
       " 'off',\n",
       " 'over',\n",
       " 'under',\n",
       " 'again',\n",
       " 'further',\n",
       " 'then',\n",
       " 'once',\n",
       " 'here',\n",
       " 'there',\n",
       " 'when',\n",
       " 'where',\n",
       " 'why',\n",
       " 'how',\n",
       " 'all',\n",
       " 'any',\n",
       " 'both',\n",
       " 'each',\n",
       " 'few',\n",
       " 'more',\n",
       " 'most',\n",
       " 'other',\n",
       " 'some',\n",
       " 'such',\n",
       " 'no',\n",
       " 'nor',\n",
       " 'not',\n",
       " 'only',\n",
       " 'own',\n",
       " 'same',\n",
       " 'so',\n",
       " 'than',\n",
       " 'too',\n",
       " 'very',\n",
       " 's',\n",
       " 't',\n",
       " 'can',\n",
       " 'will',\n",
       " 'just',\n",
       " 'don',\n",
       " \"don't\",\n",
       " 'should',\n",
       " \"should've\",\n",
       " 'now',\n",
       " 'd',\n",
       " 'll',\n",
       " 'm',\n",
       " 'o',\n",
       " 're',\n",
       " 've',\n",
       " 'y',\n",
       " 'ain',\n",
       " 'aren',\n",
       " \"aren't\",\n",
       " 'couldn',\n",
       " \"couldn't\",\n",
       " 'didn',\n",
       " \"didn't\",\n",
       " 'doesn',\n",
       " \"doesn't\",\n",
       " 'hadn',\n",
       " \"hadn't\",\n",
       " 'hasn',\n",
       " \"hasn't\",\n",
       " 'haven',\n",
       " \"haven't\",\n",
       " 'isn',\n",
       " \"isn't\",\n",
       " 'ma',\n",
       " 'mightn',\n",
       " \"mightn't\",\n",
       " 'mustn',\n",
       " \"mustn't\",\n",
       " 'needn',\n",
       " \"needn't\",\n",
       " 'shan',\n",
       " \"shan't\",\n",
       " 'shouldn',\n",
       " \"shouldn't\",\n",
       " 'wasn',\n",
       " \"wasn't\",\n",
       " 'weren',\n",
       " \"weren't\",\n",
       " 'won',\n",
       " \"won't\",\n",
       " 'wouldn',\n",
       " \"wouldn't\"]"
      ]
     },
     "execution_count": 61,
     "metadata": {},
     "output_type": "execute_result"
    }
   ],
   "source": [
    "nltk.download('stopwords')\n",
    "stopwords.words('english')"
   ]
  },
  {
   "cell_type": "markdown",
   "id": "e845a0e6",
   "metadata": {},
   "source": [
    "# stemming"
   ]
  },
  {
   "cell_type": "code",
   "execution_count": 62,
   "id": "7cccdd72",
   "metadata": {},
   "outputs": [
    {
     "name": "stdout",
     "output_type": "stream",
     "text": [
      "bengaluru\n",
      "also\n",
      "call\n",
      "bangalor\n",
      "capit\n",
      "india\n",
      "southern\n",
      "karnataka\n",
      "state\n",
      "center\n",
      "india\n",
      "high\n",
      "tech\n",
      "industri\n",
      "citi\n",
      "also\n",
      "known\n",
      "park\n",
      "nightlif\n",
      "cubbon\n",
      "park\n",
      "vidhana\n",
      "soudha\n",
      "neo\n",
      "dravidian\n",
      "legisl\n",
      "build\n",
      "former\n",
      "royal\n",
      "resid\n",
      "includ\n",
      "th\n",
      "centuri\n",
      "bangalor\n",
      "palac\n",
      "model\n",
      "england\n",
      "windsor\n",
      "castl\n",
      "tipu\n",
      "sultan\n",
      "summer\n",
      "palac\n",
      "th\n",
      "centuri\n",
      "teak\n"
     ]
    }
   ],
   "source": [
    "# stemming\n",
    "\n",
    "for i in corpus:\n",
    "    words=nltk.word_tokenize(i)\n",
    "    for word in words:\n",
    "        if word not in set(stopwords.words('english')):\n",
    "            print (stemmer.stem(word))"
   ]
  },
  {
   "cell_type": "markdown",
   "id": "7e0f1334",
   "metadata": {},
   "source": [
    "# Lemmatization"
   ]
  },
  {
   "cell_type": "code",
   "execution_count": 67,
   "id": "469fa1f9",
   "metadata": {},
   "outputs": [
    {
     "name": "stderr",
     "output_type": "stream",
     "text": [
      "[nltk_data] Downloading package stopwords to C:\\Users\\Surbhi\n",
      "[nltk_data]     Sharma\\AppData\\Roaming\\nltk_data...\n",
      "[nltk_data]   Package stopwords is already up-to-date!\n"
     ]
    }
   ],
   "source": [
    "import nltk\n",
    "from nltk.corpus import stopwords\n",
    "from nltk.stem import WordNetLemmatizer\n",
    "\n",
    "nltk.download('stopwords')  # Download the stopwords dataset\n",
    "\n",
    "# Now you can proceed with your code\n",
    "corpus = []\n",
    "lemmatizer = WordNetLemmatizer()\n",
    "\n",
    "for sentence in sentences:\n",
    "    review = re.sub('[^a-zA-Z]', ' ', sentence)\n",
    "    review = review.lower()\n",
    "    review = review.split()\n",
    "    review = [lemmatizer.lemmatize(word) for word in review if word not in stopwords.words('english')]\n",
    "    review = ' '.join(review)\n",
    "    \n",
    "    corpus.append(review)\n"
   ]
  },
  {
   "cell_type": "code",
   "execution_count": 68,
   "id": "948acd46",
   "metadata": {},
   "outputs": [
    {
     "data": {
      "text/plain": [
       "['bengaluru also called bangalore capital india southern karnataka state',\n",
       " 'center india high tech industry city also known park nightlife',\n",
       " 'cubbon park vidhana soudha neo dravidian legislative building',\n",
       " 'former royal residence include th century bangalore palace modeled england windsor castle tipu sultan summer palace th century teak']"
      ]
     },
     "execution_count": 68,
     "metadata": {},
     "output_type": "execute_result"
    }
   ],
   "source": [
    "corpus"
   ]
  },
  {
   "cell_type": "markdown",
   "id": "e17f18df",
   "metadata": {},
   "source": [
    "## Here all single letters removed "
   ]
  },
  {
   "cell_type": "markdown",
   "id": "4f88598e",
   "metadata": {},
   "source": [
    "# Bag of Words"
   ]
  },
  {
   "cell_type": "code",
   "execution_count": 72,
   "id": "173c17bc",
   "metadata": {},
   "outputs": [],
   "source": [
    "from sklearn.feature_extraction.text import CountVectorizer\n",
    "cv = CountVectorizer(binary=True, ngram_range=(2,3))   #here 3,3  or 2,2 or 2,3 all depends on need # in (2,3) it will show bigram and trigram both"
   ]
  },
  {
   "cell_type": "code",
   "execution_count": 73,
   "id": "5590dfa5",
   "metadata": {},
   "outputs": [],
   "source": [
    "X = cv.fit_transform(corpus)"
   ]
  },
  {
   "cell_type": "code",
   "execution_count": 74,
   "id": "39cecc6a",
   "metadata": {},
   "outputs": [
    {
     "data": {
      "text/plain": [
       "{'bengaluru also': 8,\n",
       " 'also called': 0,\n",
       " 'called bangalore': 10,\n",
       " 'bangalore capital': 4,\n",
       " 'capital india': 12,\n",
       " 'india southern': 37,\n",
       " 'southern karnataka': 62,\n",
       " 'karnataka state': 41,\n",
       " 'bengaluru also called': 9,\n",
       " 'also called bangalore': 1,\n",
       " 'called bangalore capital': 11,\n",
       " 'bangalore capital india': 5,\n",
       " 'capital india southern': 13,\n",
       " 'india southern karnataka': 38,\n",
       " 'southern karnataka state': 63,\n",
       " 'center india': 16,\n",
       " 'india high': 35,\n",
       " 'high tech': 31,\n",
       " 'tech industry': 68,\n",
       " 'industry city': 39,\n",
       " 'city also': 21,\n",
       " 'also known': 2,\n",
       " 'known park': 42,\n",
       " 'park nightlife': 53,\n",
       " 'center india high': 17,\n",
       " 'india high tech': 36,\n",
       " 'high tech industry': 32,\n",
       " 'tech industry city': 69,\n",
       " 'industry city also': 40,\n",
       " 'city also known': 22,\n",
       " 'also known park': 3,\n",
       " 'known park nightlife': 43,\n",
       " 'cubbon park': 23,\n",
       " 'park vidhana': 54,\n",
       " 'vidhana soudha': 75,\n",
       " 'soudha neo': 60,\n",
       " 'neo dravidian': 47,\n",
       " 'dravidian legislative': 25,\n",
       " 'legislative building': 44,\n",
       " 'cubbon park vidhana': 24,\n",
       " 'park vidhana soudha': 55,\n",
       " 'vidhana soudha neo': 76,\n",
       " 'soudha neo dravidian': 61,\n",
       " 'neo dravidian legislative': 48,\n",
       " 'dravidian legislative building': 26,\n",
       " 'former royal': 29,\n",
       " 'royal residence': 58,\n",
       " 'residence include': 56,\n",
       " 'include th': 33,\n",
       " 'th century': 70,\n",
       " 'century bangalore': 18,\n",
       " 'bangalore palace': 6,\n",
       " 'palace modeled': 49,\n",
       " 'modeled england': 45,\n",
       " 'england windsor': 27,\n",
       " 'windsor castle': 77,\n",
       " 'castle tipu': 14,\n",
       " 'tipu sultan': 73,\n",
       " 'sultan summer': 64,\n",
       " 'summer palace': 66,\n",
       " 'palace th': 51,\n",
       " 'century teak': 20,\n",
       " 'former royal residence': 30,\n",
       " 'royal residence include': 59,\n",
       " 'residence include th': 57,\n",
       " 'include th century': 34,\n",
       " 'th century bangalore': 71,\n",
       " 'century bangalore palace': 19,\n",
       " 'bangalore palace modeled': 7,\n",
       " 'palace modeled england': 50,\n",
       " 'modeled england windsor': 46,\n",
       " 'england windsor castle': 28,\n",
       " 'windsor castle tipu': 78,\n",
       " 'castle tipu sultan': 15,\n",
       " 'tipu sultan summer': 74,\n",
       " 'sultan summer palace': 65,\n",
       " 'summer palace th': 67,\n",
       " 'palace th century': 52,\n",
       " 'th century teak': 72}"
      ]
     },
     "execution_count": 74,
     "metadata": {},
     "output_type": "execute_result"
    }
   ],
   "source": [
    "cv.vocabulary_"
   ]
  },
  {
   "cell_type": "code",
   "execution_count": 75,
   "id": "cb897643",
   "metadata": {},
   "outputs": [
    {
     "data": {
      "text/plain": [
       "'bengaluru also called bangalore capital india southern karnataka state'"
      ]
     },
     "execution_count": 75,
     "metadata": {},
     "output_type": "execute_result"
    }
   ],
   "source": [
    "corpus[0]            # printing 0th row"
   ]
  },
  {
   "cell_type": "code",
   "execution_count": 76,
   "id": "47ffb34d",
   "metadata": {},
   "outputs": [
    {
     "data": {
      "text/plain": [
       "array([[1, 1, 0, 0, 1, 1, 0, 0, 1, 1, 1, 1, 1, 1, 0, 0, 0, 0, 0, 0, 0, 0,\n",
       "        0, 0, 0, 0, 0, 0, 0, 0, 0, 0, 0, 0, 0, 0, 0, 1, 1, 0, 0, 1, 0, 0,\n",
       "        0, 0, 0, 0, 0, 0, 0, 0, 0, 0, 0, 0, 0, 0, 0, 0, 0, 0, 1, 1, 0, 0,\n",
       "        0, 0, 0, 0, 0, 0, 0, 0, 0, 0, 0, 0, 0]], dtype=int64)"
      ]
     },
     "execution_count": 76,
     "metadata": {},
     "output_type": "execute_result"
    }
   ],
   "source": [
    "X[0].toarray()"
   ]
  },
  {
   "cell_type": "markdown",
   "id": "909679dd",
   "metadata": {},
   "source": [
    "# TFIDF"
   ]
  },
  {
   "cell_type": "code",
   "execution_count": 102,
   "id": "8075fa23",
   "metadata": {},
   "outputs": [],
   "source": [
    "from sklearn.feature_extraction.text import TfidfVectorizer\n",
    "cv = TfidfVectorizer()\n",
    "#cv = TfidfVectorizer(ngram_range=(2,3), max_features=3) #max_features=3 show top high frequency feature vector\n",
    "# ngram_range=(2,3)  bigram , trigram we can use"
   ]
  },
  {
   "cell_type": "code",
   "execution_count": 103,
   "id": "4e34eb3f",
   "metadata": {},
   "outputs": [],
   "source": [
    "X = cv.fit_transform(corpus)"
   ]
  },
  {
   "cell_type": "code",
   "execution_count": 104,
   "id": "d84e416b",
   "metadata": {},
   "outputs": [
    {
     "data": {
      "text/plain": [
       "'bengaluru also called bangalore capital india southern karnataka state'"
      ]
     },
     "execution_count": 104,
     "metadata": {},
     "output_type": "execute_result"
    }
   ],
   "source": [
    "corpus[0]"
   ]
  },
  {
   "cell_type": "code",
   "execution_count": 105,
   "id": "f10147d1",
   "metadata": {},
   "outputs": [
    {
     "data": {
      "text/plain": [
       "array([[0.28113163, 0.28113163, 0.35657982, 0.        , 0.35657982,\n",
       "        0.35657982, 0.        , 0.        , 0.        , 0.        ,\n",
       "        0.        , 0.        , 0.        , 0.        , 0.        ,\n",
       "        0.        , 0.28113163, 0.        , 0.35657982, 0.        ,\n",
       "        0.        , 0.        , 0.        , 0.        , 0.        ,\n",
       "        0.        , 0.        , 0.        , 0.        , 0.35657982,\n",
       "        0.35657982, 0.        , 0.        , 0.        , 0.        ,\n",
       "        0.        , 0.        , 0.        , 0.        ]])"
      ]
     },
     "execution_count": 105,
     "metadata": {},
     "output_type": "execute_result"
    }
   ],
   "source": [
    "X[0].toarray()"
   ]
  },
  {
   "cell_type": "code",
   "execution_count": 106,
   "id": "4344ef33",
   "metadata": {},
   "outputs": [
    {
     "data": {
      "text/plain": [
       "array([[1., 0., 0.]])"
      ]
     },
     "execution_count": 106,
     "metadata": {},
     "output_type": "execute_result"
    }
   ],
   "source": [
    "cv = TfidfVectorizer(ngram_range=(2,3), max_features=3)\n",
    "X = cv.fit_transform(corpus)\n",
    "corpus[0]\n",
    "X[0].toarray()"
   ]
  },
  {
   "cell_type": "markdown",
   "id": "dd3dd2bd",
   "metadata": {},
   "source": [
    "# Here we got Three freequent features using max_features=3"
   ]
  },
  {
   "cell_type": "code",
   "execution_count": null,
   "id": "19d21bf0",
   "metadata": {},
   "outputs": [],
   "source": []
  }
 ],
 "metadata": {
  "kernelspec": {
   "display_name": "Python 3 (ipykernel)",
   "language": "python",
   "name": "python3"
  },
  "language_info": {
   "codemirror_mode": {
    "name": "ipython",
    "version": 3
   },
   "file_extension": ".py",
   "mimetype": "text/x-python",
   "name": "python",
   "nbconvert_exporter": "python",
   "pygments_lexer": "ipython3",
   "version": "3.9.7"
  }
 },
 "nbformat": 4,
 "nbformat_minor": 5
}
